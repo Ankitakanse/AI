{
 "cells": [
  {
   "cell_type": "markdown",
   "id": "60438827",
   "metadata": {},
   "source": [
    "# Genetic Algorithm"
   ]
  },
  {
   "cell_type": "code",
   "execution_count": 9,
   "id": "b493c2cf",
   "metadata": {},
   "outputs": [
    {
     "name": "stdout",
     "output_type": "stream",
     "text": [
      "Requirement already satisfied: deap in c:\\users\\mscit\\anaconda3\\lib\\site-packages (1.3.3)\n",
      "Requirement already satisfied: numpy in c:\\users\\mscit\\anaconda3\\lib\\site-packages (from deap) (1.20.3)\n",
      "[170, 240, 85, 15, 187, 68, 231, 0]\n"
     ]
    }
   ],
   "source": [
    "!pip install deap\n",
    "\n",
    "from deap import tools \n",
    "import random\n",
    "\n",
    "population=['10101010','11110000','01010101','00001111','10111011','01000100','11100111','00000000']\n",
    "\n",
    "binary=[]\n",
    "for i in range(len(population)):\n",
    "    binary.append(int(population[i],2))\n",
    "    \n",
    "    \n",
    "\n",
    "    \n",
    "print(binary)"
   ]
  },
  {
   "cell_type": "code",
   "execution_count": 10,
   "id": "b09b7fba",
   "metadata": {},
   "outputs": [
    {
     "name": "stdout",
     "output_type": "stream",
     "text": [
      "Indivitual[ 0 ]: 10101010 \tfitness: 170\n",
      "Indivitual[ 1 ]: 11110000 \tfitness: 240\n",
      "Indivitual[ 2 ]: 01010101 \tfitness: 85\n",
      "Indivitual[ 3 ]: 00001111 \tfitness: 15\n",
      "Indivitual[ 4 ]: 10111011 \tfitness: 187\n",
      "Indivitual[ 5 ]: 01000100 \tfitness: 68\n",
      "Indivitual[ 6 ]: 11100111 \tfitness: 231\n",
      "Indivitual[ 7 ]: 00000000 \tfitness: 0\n"
     ]
    }
   ],
   "source": [
    "for i in range(len(population)):\n",
    "    print('Indivitual[',i,']:',population[i],'\\tfitness:',binary[i])\n",
    "    \n",
    "    \n"
   ]
  },
  {
   "cell_type": "code",
   "execution_count": 11,
   "id": "48fe66b9",
   "metadata": {},
   "outputs": [
    {
     "name": "stdout",
     "output_type": "stream",
     "text": [
      "\n",
      "Please Enter Choice(or to quit type exit)\n",
      "Crossover or Mutation: Mutation\n",
      "Selected indivitual:  11100111 \tfitness: 231\n",
      "\n",
      "Mutated Child:  11110111 \tFitness: 247 \n",
      "\n",
      "Child has evolved\n",
      "\n",
      "Please Enter Choice(or to quit type exit)\n",
      "Crossover or Mutation: Crossover\n",
      "Selected indivitual\n",
      "Parent 1 : 01000100 \tfitness: 68 \n",
      "Parent 2 : 00001111 \tfitness: 15 \n",
      "\n",
      "Child 1:  01000101 \tfitness:  69\n",
      "Child 2:  00001110 \tfitness:  14\n",
      "\n",
      "Child  01000101 Survives to next generation\n",
      "\n",
      "Please Enter Choice(or to quit type exit)\n",
      "Crossover or Mutation: exit\n"
     ]
    }
   ],
   "source": [
    "def crossoverEP():\n",
    "    parents=tools.selection.selRandom(population,2)\n",
    "    print('Selected indivitual\\nParent 1 :',parents[0],'\\tfitness:',binary[population.index(parents[0])],'\\nParent 2 :',parents[1],'\\tfitness:',binary[population.index(parents[1])],'\\n')\n",
    "    children=list(tools.crossover.cxOnePoint(list(parents[0]),list(parents[1])))\n",
    "    f_child1=int(\"\".join(children[0]),2)\n",
    "    f_child2=int(\"\".join(children[1]),2)\n",
    "    print(\"Child 1: \",\"\".join(children[0]),\"\\tfitness: \",f_child1)\n",
    "    print(\"Child 2: \",\"\".join(children[1]),\"\\tfitness: \",f_child2)\n",
    "    \n",
    "    if(f_child1<f_child2):\n",
    "        print(\"\\nChild \",\"\".join(children[1]),'Survives to next generation')\n",
    "    else:\n",
    "            print(\"\\nChild \",\"\".join(children[0]),\"Survives to next generation\")\n",
    "        \n",
    "def mutationEP():\n",
    "    parents=tools.selection.selRandom(population,1)\n",
    "    print('Selected indivitual: ',parents[0],'\\tfitness:',binary[population.index(parents[0])])\n",
    "    child_list=list(parents[0])\n",
    "    mutate_bit=random.choice(range(1,7))\n",
    "    if child_list[mutate_bit]=='1':\n",
    "        child_list[mutate_bit]='0'\n",
    "    else: \n",
    "            child_list[mutate_bit]='1'\n",
    "            \n",
    "    child=int(\"\".join(child_list),2)\n",
    "    print(\"\\nMutated Child: \",\"\".join(child_list),\"\\tFitness:\",child,\"\\n\")\n",
    "    if(child<=binary[population.index(parents[0])]):\n",
    "        print(\"Child has not evolved\")\n",
    "    if (child>binary[population.index(parents[0])]):\n",
    "        print(\"Child has evolved\")\n",
    "    \n",
    "while True:\n",
    "    evolution=input('\\nPlease Enter Choice(or to quit type exit)\\nCrossover or Mutation: ').lower()\n",
    "    if evolution=='crossover':\n",
    "        crossoverEP()\n",
    "    elif evolution=='mutation':\n",
    "        mutationEP()\n",
    "    elif evolution=='exit':\n",
    "            break\n",
    "    else:\n",
    "            print('Please enter a valid choice:')        "
   ]
  },
  {
   "cell_type": "code",
   "execution_count": 7,
   "id": "86a603b8",
   "metadata": {},
   "outputs": [
    {
     "name": "stdout",
     "output_type": "stream",
     "text": [
      "\n",
      "Please Enter Choice(or to quit type exit)\n",
      "Crossover or Mutation:exit\n"
     ]
    }
   ],
   "source": [
    "'''while True:\n",
    "    evolution=input('\\nPlease Enter Choice(or to quit type exit)\\nCrossover or Mutation:').lower()\n",
    "    if evolution=='crossover':\n",
    "        crossoverEP()\n",
    "    elif evolution=='mutation':\n",
    "            mutationEP()\n",
    "    elif evolution=='exit':\n",
    "            break\n",
    "    else:\n",
    "            print('Please enter a valid choice:')'''"
   ]
  },
  {
   "cell_type": "code",
   "execution_count": null,
   "id": "d2076dad",
   "metadata": {},
   "outputs": [],
   "source": []
  }
 ],
 "metadata": {
  "kernelspec": {
   "display_name": "Python 3 (ipykernel)",
   "language": "python",
   "name": "python3"
  },
  "language_info": {
   "codemirror_mode": {
    "name": "ipython",
    "version": 3
   },
   "file_extension": ".py",
   "mimetype": "text/x-python",
   "name": "python",
   "nbconvert_exporter": "python",
   "pygments_lexer": "ipython3",
   "version": "3.9.7"
  }
 },
 "nbformat": 4,
 "nbformat_minor": 5
}
